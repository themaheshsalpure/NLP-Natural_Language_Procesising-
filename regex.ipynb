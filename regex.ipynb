{
 "cells": [
  {
   "cell_type": "code",
   "execution_count": 1,
   "metadata": {},
   "outputs": [],
   "source": [
    "import re"
   ]
  },
  {
   "cell_type": "code",
   "execution_count": 12,
   "metadata": {},
   "outputs": [],
   "source": [
    "chat1 = 'codebasics: you ask lot of questions 😠  1235678912, abc@xyz.com'\n",
    "chat2 = 'codebasics: here it is: (123)-567-8912, abc_87@xyz.com'\n",
    "chat3 = 'codebasics: yes, phone: 1235678912 email: abc@xyz.com'"
   ]
  },
  {
   "cell_type": "markdown",
   "metadata": {},
   "source": [
    "Extraacting mobile number from Data - "
   ]
  },
  {
   "cell_type": "code",
   "execution_count": 13,
   "metadata": {},
   "outputs": [
    {
     "name": "stdout",
     "output_type": "stream",
     "text": [
      "1235678912\n",
      "(123)-567-8912\n",
      "1235678912\n"
     ]
    }
   ],
   "source": [
    "\n",
    "\n",
    "pattern = '\\d{10}|\\(\\d{3}\\)-\\d{3}-\\d{4}'\n",
    "matches1 = re.findall(pattern, chat1)\n",
    "matches2 = re.findall(pattern, chat2)\n",
    "matches3 = re.findall(pattern, chat3)\n",
    "print(matches1[0])\n",
    "print(matches2[0])\n",
    "print(matches3[0])"
   ]
  },
  {
   "cell_type": "markdown",
   "metadata": {},
   "source": [
    "Extracting Email ID From the Data - "
   ]
  },
  {
   "cell_type": "code",
   "execution_count": 14,
   "metadata": {},
   "outputs": [
    {
     "name": "stdout",
     "output_type": "stream",
     "text": [
      "abc@xyz.com\n",
      "abc_87@xyz.com\n",
      "abc@xyz.com\n"
     ]
    }
   ],
   "source": [
    "epattern = '[a-zA-Z0-9_]*@[a-zA-Z]*\\.[a-zA-Z]*'\n",
    "\n",
    "ematches1 = re.findall(epattern, chat1)\n",
    "ematches2 = re.findall(epattern, chat2)\n",
    "ematches3 = re.findall(epattern, chat3)\n",
    "\n",
    "print(ematches1[0])\n",
    "print(ematches2[0])\n",
    "print(ematches3[0])"
   ]
  },
  {
   "cell_type": "code",
   "execution_count": 16,
   "metadata": {},
   "outputs": [],
   "source": [
    "data = 'codebasics: My order 412889912 is having an issue, I was charged 300$ when online it says 280$'"
   ]
  },
  {
   "cell_type": "code",
   "execution_count": 17,
   "metadata": {},
   "outputs": [
    {
     "name": "stdout",
     "output_type": "stream",
     "text": [
      "412889912\n"
     ]
    }
   ],
   "source": [
    "dpattern = 'order[^0-9]*(\\d*)'\n",
    "\n",
    "matches = re.findall(dpattern, data)\n",
    "print(matches[0])"
   ]
  },
  {
   "cell_type": "markdown",
   "metadata": {},
   "source": [
    "Extracting the Birth Date from the Paragraph of Information -"
   ]
  },
  {
   "cell_type": "code",
   "execution_count": 20,
   "metadata": {},
   "outputs": [],
   "source": [
    "info = \"\"\"Mukesh Dhirubhai Ambani (born 19 April 1954) is an Indian billionaire businessman. He is currently the chairman and managing\n",
    "     director of Reliance Industries, India's most valuable company by market value.[4] With an estimated net worth of $91.2 billion as \n",
    "     of August 2023, he is the richest person in Asia and 13th richest in the world.[5][6] Sometimes characterized as a plutocrat;[7] he\n",
    "       has attracted both fame and notoriety for reports of market manipulation, political corruption, cronyism, and exploitation.[8][9][10]\n",
    "       [11][12] Time magazine listed him as one of the 100 most influential people of 2019, under the \"Titans\" section.[13]\"\"\""
   ]
  },
  {
   "cell_type": "code",
   "execution_count": 22,
   "metadata": {},
   "outputs": [
    {
     "data": {
      "text/plain": [
       "'19 April 1954'"
      ]
     },
     "execution_count": 22,
     "metadata": {},
     "output_type": "execute_result"
    }
   ],
   "source": [
    "pattern = 'born (\\d* [A-Za-z]* \\d*)'\n",
    "match = re.findall(pattern, info)\n",
    "match[0] "
   ]
  },
  {
   "cell_type": "markdown",
   "metadata": {},
   "source": [
    "Extracting the networth of Person from the information provided"
   ]
  },
  {
   "cell_type": "code",
   "execution_count": 26,
   "metadata": {},
   "outputs": [
    {
     "data": {
      "text/plain": [
       "'$91.2 billion'"
      ]
     },
     "execution_count": 26,
     "metadata": {},
     "output_type": "execute_result"
    }
   ],
   "source": [
    "pattern = '(\\$\\d*.\\d* [a-zA-Z]*)'\n",
    "match = re.findall(pattern, info)\n",
    "match[0]"
   ]
  },
  {
   "cell_type": "markdown",
   "metadata": {},
   "source": [
    "Extracting the birth date of Elon Musk from the given Data "
   ]
  },
  {
   "cell_type": "code",
   "execution_count": 27,
   "metadata": {},
   "outputs": [],
   "source": [
    "info = \"\"\"Elon Reeve Musk (/ˈiːlɒn/ EE-lon; born June 28, 1971) is a businessman and investor. Musk is the founder, chairman, CEO and\n",
    " chief technology officer of SpaceX; angel investor, CEO, product architect and former chairman of Tesla, Inc.; owner, chairman and CTO of\n",
    "   X Corp.; founder of the Boring Company; co-founder of Neuralink and OpenAI; and president of the Musk Foundation. He is the wealthiest\n",
    "     person in the world, with an estimated net worth of US$207 billion as of October 2023, according to the Bloomberg Billionaires Index, and $231 billion \n",
    "     according to Forbes, primarily from his ownership stakes in Tesla and SpaceX.[5][6]\"\"\""
   ]
  },
  {
   "cell_type": "code",
   "execution_count": 28,
   "metadata": {},
   "outputs": [
    {
     "data": {
      "text/plain": [
       "'June 28, 1971'"
      ]
     },
     "execution_count": 28,
     "metadata": {},
     "output_type": "execute_result"
    }
   ],
   "source": [
    "pattern = 'born ([a-zA-Z]*\\s\\d*,\\s\\d*)'\n",
    "\n",
    "match = re.findall(pattern, info)\n",
    "match[0]"
   ]
  },
  {
   "cell_type": "markdown",
   "metadata": {},
   "source": [
    "Extracting the Income of Elon Musk from the Info"
   ]
  },
  {
   "cell_type": "code",
   "execution_count": 31,
   "metadata": {},
   "outputs": [
    {
     "data": {
      "text/plain": [
       "'US$207 billion'"
      ]
     },
     "execution_count": 31,
     "metadata": {},
     "output_type": "execute_result"
    }
   ],
   "source": [
    "pattern = 'US\\$\\d* [a-zA-Z]*'\n",
    "match = re.findall(pattern, info)\n",
    "match[0]"
   ]
  },
  {
   "cell_type": "markdown",
   "metadata": {},
   "source": [
    "Making the Engine to Extract the basic information about any person from wikipedia - "
   ]
  },
  {
   "cell_type": "code",
   "execution_count": 62,
   "metadata": {},
   "outputs": [],
   "source": [
    "Info = \"\"\"Born\tMukesh Dhirubhai Ambani\n",
    "19 April 1954 (age 69)\n",
    "Aden, Colony of Aden\n",
    "(present-day Yemen)[1][2]\n",
    "Nationality\tIndian\n",
    "Alma mater\t\n",
    "St. Xavier's College, Mumbai\n",
    "Institute of Chemical Technology (B.E.)\n",
    "Occupation(s)\tChairman and MD, Reliance Industries\n",
    "Spouse\tNita Ambani ​(m. 1985)​[3]\n",
    "Children\t3\n",
    "Parents\t\n",
    "Dhirubhai Ambani (father)\n",
    "Kokilaben Ambani (mother)\n",
    "Relatives\tAnil Ambani (brother)\n",
    "Tina Ambani (sister-in-law)\"\"\""
   ]
  },
  {
   "cell_type": "code",
   "execution_count": 69,
   "metadata": {},
   "outputs": [
    {
     "data": {
      "text/plain": [
       "'Mukesh Dhirubhai Ambani'"
      ]
     },
     "execution_count": 69,
     "metadata": {},
     "output_type": "execute_result"
    }
   ],
   "source": [
    "npattern = 'Born\\t([a-zA-Z].*)'\n",
    "match2 = re.findall(npattern, Info)\n",
    "match2[0]\n"
   ]
  },
  {
   "cell_type": "code",
   "execution_count": 70,
   "metadata": {},
   "outputs": [
    {
     "ename": "IndexError",
     "evalue": "list index out of range",
     "output_type": "error",
     "traceback": [
      "\u001b[1;31m---------------------------------------------------------------------------\u001b[0m",
      "\u001b[1;31mIndexError\u001b[0m                                Traceback (most recent call last)",
      "\u001b[1;32mc:\\9 - NLP\\regex.ipynb Cell 22\u001b[0m line \u001b[0;36m4\n\u001b[0;32m      <a href='vscode-notebook-cell:/c%3A/9%20-%20NLP/regex.ipynb#X41sZmlsZQ%3D%3D?line=0'>1</a>\u001b[0m pattern \u001b[39m=\u001b[39m \u001b[39m'\u001b[39m\u001b[39mBorn\u001b[39m\u001b[39m\\t\u001b[39;00m\u001b[39m[a-zA-Z].*\u001b[39m\u001b[39m\\n\u001b[39;00m\u001b[39m([a-zA-Z]*\u001b[39m\u001b[39m\\\u001b[39m\u001b[39ms\u001b[39m\u001b[39m\\\u001b[39m\u001b[39md*,\u001b[39m\u001b[39m\\\u001b[39m\u001b[39ms\u001b[39m\u001b[39m\\\u001b[39m\u001b[39md*)\u001b[39m\u001b[39m'\u001b[39m\n\u001b[0;32m      <a href='vscode-notebook-cell:/c%3A/9%20-%20NLP/regex.ipynb#X41sZmlsZQ%3D%3D?line=2'>3</a>\u001b[0m match3 \u001b[39m=\u001b[39m re\u001b[39m.\u001b[39mfindall(pattern, Info)\n\u001b[1;32m----> <a href='vscode-notebook-cell:/c%3A/9%20-%20NLP/regex.ipynb#X41sZmlsZQ%3D%3D?line=3'>4</a>\u001b[0m match3[\u001b[39m0\u001b[39;49m]\n",
      "\u001b[1;31mIndexError\u001b[0m: list index out of range"
     ]
    }
   ],
   "source": [
    "pattern = 'Born\\t[a-zA-Z].*\\n([a-zA-Z]*\\s\\d*,\\s\\d*)'\n",
    "\n",
    "match3 = re.findall(pattern, Info)\n",
    "match3[0]"
   ]
  },
  {
   "cell_type": "code",
   "execution_count": 71,
   "metadata": {},
   "outputs": [
    {
     "ename": "IndexError",
     "evalue": "list index out of range",
     "output_type": "error",
     "traceback": [
      "\u001b[1;31m---------------------------------------------------------------------------\u001b[0m",
      "\u001b[1;31mIndexError\u001b[0m                                Traceback (most recent call last)",
      "\u001b[1;32mc:\\9 - NLP\\regex.ipynb Cell 23\u001b[0m line \u001b[0;36m3\n\u001b[0;32m      <a href='vscode-notebook-cell:/c%3A/9%20-%20NLP/regex.ipynb#X42sZmlsZQ%3D%3D?line=0'>1</a>\u001b[0m pattern \u001b[39m=\u001b[39m \u001b[39m'\u001b[39m\u001b[39mBorn\u001b[39m\u001b[39m\\t\u001b[39;00m\u001b[39m[a-zA-Z].*\u001b[39m\u001b[39m\\n\u001b[39;00m\u001b[39m[a-zA-Z]*\u001b[39m\u001b[39m\\\u001b[39m\u001b[39ms\u001b[39m\u001b[39m\\\u001b[39m\u001b[39md*,\u001b[39m\u001b[39m\\\u001b[39m\u001b[39ms\u001b[39m\u001b[39m\\\u001b[39m\u001b[39md*\u001b[39m\u001b[39m\\\u001b[39m\u001b[39ms\u001b[39m\u001b[39m\\\u001b[39m\u001b[39m(age\u001b[39m\u001b[39m\\\u001b[39m\u001b[39ms(\u001b[39m\u001b[39m\\\u001b[39m\u001b[39md*)\u001b[39m\u001b[39m\\\u001b[39m\u001b[39m)\u001b[39m\u001b[39m'\u001b[39m\n\u001b[0;32m      <a href='vscode-notebook-cell:/c%3A/9%20-%20NLP/regex.ipynb#X42sZmlsZQ%3D%3D?line=1'>2</a>\u001b[0m match4 \u001b[39m=\u001b[39m re\u001b[39m.\u001b[39mfindall(pattern, Info)\n\u001b[1;32m----> <a href='vscode-notebook-cell:/c%3A/9%20-%20NLP/regex.ipynb#X42sZmlsZQ%3D%3D?line=2'>3</a>\u001b[0m match4[\u001b[39m0\u001b[39;49m]\n",
      "\u001b[1;31mIndexError\u001b[0m: list index out of range"
     ]
    }
   ],
   "source": [
    "pattern = 'Born\\t[a-zA-Z].*\\n[a-zA-Z]*\\s\\d*,\\s\\d*\\s\\(age\\s(\\d*)\\)'\n",
    "match4 = re.findall(pattern, Info)\n",
    "match4[0]"
   ]
  },
  {
   "cell_type": "code",
   "execution_count": 72,
   "metadata": {},
   "outputs": [],
   "source": [
    "def collect_info(info):\n",
    "    name = re.findall(\"Born\\t([a-zA-Z].*)\", Info)\n",
    "    age = re.findall('Born\\t[a-zA-Z].*\\n[a-zA-Z]*\\s\\d*,\\s\\d*\\s\\(age\\s(\\d*)\\)', Info)\n",
    "    Birth_date = re.findall('Born\\t[a-zA-Z].*\\n([a-zA-Z]*\\s\\d*,\\s\\d*)', Info)\n",
    "\n",
    "    return {\n",
    "        'Name' : name[0],\n",
    "        \"Age\" : age[0],\n",
    "        \"Birth Date\" : Birth_date[0]\n",
    "    } \n"
   ]
  },
  {
   "cell_type": "code",
   "execution_count": 73,
   "metadata": {},
   "outputs": [
    {
     "ename": "IndexError",
     "evalue": "list index out of range",
     "output_type": "error",
     "traceback": [
      "\u001b[1;31m---------------------------------------------------------------------------\u001b[0m",
      "\u001b[1;31mIndexError\u001b[0m                                Traceback (most recent call last)",
      "\u001b[1;32mc:\\9 - NLP\\regex.ipynb Cell 25\u001b[0m line \u001b[0;36m1\n\u001b[1;32m----> <a href='vscode-notebook-cell:/c%3A/9%20-%20NLP/regex.ipynb#X44sZmlsZQ%3D%3D?line=0'>1</a>\u001b[0m collect_info(Info)\n",
      "\u001b[1;32mc:\\9 - NLP\\regex.ipynb Cell 25\u001b[0m line \u001b[0;36m8\n\u001b[0;32m      <a href='vscode-notebook-cell:/c%3A/9%20-%20NLP/regex.ipynb#X44sZmlsZQ%3D%3D?line=2'>3</a>\u001b[0m age \u001b[39m=\u001b[39m re\u001b[39m.\u001b[39mfindall(\u001b[39m'\u001b[39m\u001b[39mBorn\u001b[39m\u001b[39m\\t\u001b[39;00m\u001b[39m[a-zA-Z].*\u001b[39m\u001b[39m\\n\u001b[39;00m\u001b[39m[a-zA-Z]*\u001b[39m\u001b[39m\\\u001b[39m\u001b[39ms\u001b[39m\u001b[39m\\\u001b[39m\u001b[39md*,\u001b[39m\u001b[39m\\\u001b[39m\u001b[39ms\u001b[39m\u001b[39m\\\u001b[39m\u001b[39md*\u001b[39m\u001b[39m\\\u001b[39m\u001b[39ms\u001b[39m\u001b[39m\\\u001b[39m\u001b[39m(age\u001b[39m\u001b[39m\\\u001b[39m\u001b[39ms(\u001b[39m\u001b[39m\\\u001b[39m\u001b[39md*)\u001b[39m\u001b[39m\\\u001b[39m\u001b[39m)\u001b[39m\u001b[39m'\u001b[39m, Info)\n\u001b[0;32m      <a href='vscode-notebook-cell:/c%3A/9%20-%20NLP/regex.ipynb#X44sZmlsZQ%3D%3D?line=3'>4</a>\u001b[0m Birth_date \u001b[39m=\u001b[39m re\u001b[39m.\u001b[39mfindall(\u001b[39m'\u001b[39m\u001b[39mBorn\u001b[39m\u001b[39m\\t\u001b[39;00m\u001b[39m[a-zA-Z].*\u001b[39m\u001b[39m\\n\u001b[39;00m\u001b[39m([a-zA-Z]*\u001b[39m\u001b[39m\\\u001b[39m\u001b[39ms\u001b[39m\u001b[39m\\\u001b[39m\u001b[39md*,\u001b[39m\u001b[39m\\\u001b[39m\u001b[39ms\u001b[39m\u001b[39m\\\u001b[39m\u001b[39md*)\u001b[39m\u001b[39m'\u001b[39m, Info)\n\u001b[0;32m      <a href='vscode-notebook-cell:/c%3A/9%20-%20NLP/regex.ipynb#X44sZmlsZQ%3D%3D?line=5'>6</a>\u001b[0m \u001b[39mreturn\u001b[39;00m {\n\u001b[0;32m      <a href='vscode-notebook-cell:/c%3A/9%20-%20NLP/regex.ipynb#X44sZmlsZQ%3D%3D?line=6'>7</a>\u001b[0m     \u001b[39m'\u001b[39m\u001b[39mName\u001b[39m\u001b[39m'\u001b[39m : name[\u001b[39m0\u001b[39m],\n\u001b[1;32m----> <a href='vscode-notebook-cell:/c%3A/9%20-%20NLP/regex.ipynb#X44sZmlsZQ%3D%3D?line=7'>8</a>\u001b[0m     \u001b[39m\"\u001b[39m\u001b[39mAge\u001b[39m\u001b[39m\"\u001b[39m : age[\u001b[39m0\u001b[39;49m],\n\u001b[0;32m      <a href='vscode-notebook-cell:/c%3A/9%20-%20NLP/regex.ipynb#X44sZmlsZQ%3D%3D?line=8'>9</a>\u001b[0m     \u001b[39m\"\u001b[39m\u001b[39mBirth Date\u001b[39m\u001b[39m\"\u001b[39m : Birth_date[\u001b[39m0\u001b[39m]\n\u001b[0;32m     <a href='vscode-notebook-cell:/c%3A/9%20-%20NLP/regex.ipynb#X44sZmlsZQ%3D%3D?line=9'>10</a>\u001b[0m }\n",
      "\u001b[1;31mIndexError\u001b[0m: list index out of range"
     ]
    }
   ],
   "source": [
    "collect_info(Info)"
   ]
  },
  {
   "cell_type": "code",
   "execution_count": null,
   "metadata": {},
   "outputs": [],
   "source": []
  }
 ],
 "metadata": {
  "kernelspec": {
   "display_name": "Python 3",
   "language": "python",
   "name": "python3"
  },
  "language_info": {
   "codemirror_mode": {
    "name": "ipython",
    "version": 3
   },
   "file_extension": ".py",
   "mimetype": "text/x-python",
   "name": "python",
   "nbconvert_exporter": "python",
   "pygments_lexer": "ipython3",
   "version": "3.10.11"
  }
 },
 "nbformat": 4,
 "nbformat_minor": 2
}
